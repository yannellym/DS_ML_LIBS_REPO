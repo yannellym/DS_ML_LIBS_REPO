{
  "cells": [
    {
      "cell_type": "markdown",
      "metadata": {
        "id": "l8JaOdnCXH7F"
      },
      "source": [
        "## Coding Exercise #0304"
      ]
    },
    {
      "cell_type": "markdown",
      "metadata": {
        "id": "kGgktgfiXH7G"
      },
      "source": [
        "### 1. Linear regression prediction and confidence interval:"
      ]
    },
    {
      "cell_type": "code",
      "execution_count": 1,
      "metadata": {
        "id": "qC7mt98yXH7H"
      },
      "outputs": [],
      "source": [
        "import numpy as np\n",
        "import pandas as pd\n",
        "import matplotlib.pyplot as plt\n",
        "import scipy.stats as st\n",
        "from sklearn.linear_model import LinearRegression\n",
        "from sklearn import metrics\n",
        "%matplotlib inline"
      ]
    },
    {
      "cell_type": "markdown",
      "metadata": {
        "id": "OFOX4kYfXH7H"
      },
      "source": [
        "#### 1.1. Data: \n",
        "<br>\n",
        "study = an array that contains the hours of study. This is the explanatory variable. <br>\n",
        "score = an array that contains the test scores. This is the response variable."
      ]
    },
    {
      "cell_type": "code",
      "execution_count": 2,
      "metadata": {
        "id": "DG3WcRGFXH7I"
      },
      "outputs": [],
      "source": [
        "study = np.array([ 3, 4.5, 6, 1.2, 2, 6.9, 6.7, 5.5])\n",
        "score = np.array([ 88, 85, 90, 80, 81, 92, 95, 90])\n",
        "n = study.size"
      ]
    },
    {
      "cell_type": "markdown",
      "metadata": {
        "id": "KJTWn6BEXH7I"
      },
      "source": [
        "#### 1.2. Training:"
      ]
    },
    {
      "cell_type": "code",
      "execution_count": 3,
      "metadata": {
        "id": "_7Kdg9BdXH7I"
      },
      "outputs": [],
      "source": [
        "# Instantiate a linear regression object.\n",
        "lm = LinearRegression()"
      ]
    },
    {
      "cell_type": "code",
      "execution_count": 7,
      "metadata": {
        "scrolled": true,
        "id": "xVUFzUNeXH7I",
        "outputId": "683ecadd-1577-47ea-9ba8-1714efb90949",
        "colab": {
          "base_uri": "https://localhost:8080/"
        }
      },
      "outputs": [
        {
          "output_type": "execute_result",
          "data": {
            "text/plain": [
              "LinearRegression()"
            ]
          },
          "metadata": {},
          "execution_count": 7
        }
      ],
      "source": [
        "# Train.\n",
        "lm.fit(study.reshape(-1,1), score.reshape(-1,1))"
      ]
    },
    {
      "cell_type": "code",
      "execution_count": 8,
      "metadata": {
        "id": "lYvMv_rzXH7I",
        "outputId": "e0af8f92-d182-463b-fbfb-c1d1b7660352",
        "colab": {
          "base_uri": "https://localhost:8080/"
        }
      },
      "outputs": [
        {
          "output_type": "stream",
          "name": "stdout",
          "text": [
            "77.68466977583873\n",
            "2.2213028433879947\n"
          ]
        }
      ],
      "source": [
        "# Get the parameters.\n",
        "b0 = lm.intercept_[0]\n",
        "b1 = lm.coef_[0][0]\n",
        "print(b0)\n",
        "print(b1)"
      ]
    },
    {
      "cell_type": "code",
      "execution_count": 9,
      "metadata": {
        "id": "fAs9MYVtXH7I",
        "outputId": "3b0c2e98-d1e3-4630-9e06-184e79459fe3",
        "colab": {
          "base_uri": "https://localhost:8080/"
        }
      },
      "outputs": [
        {
          "output_type": "execute_result",
          "data": {
            "text/plain": [
              "1.93"
            ]
          },
          "metadata": {},
          "execution_count": 9
        }
      ],
      "source": [
        "# Calculate the in-sample RMSE.\n",
        "predScore = lm.predict(study.reshape(-1,1))\n",
        "mse = metrics.mean_squared_error(score, predScore)\n",
        "rmse=np.sqrt(mse)\n",
        "np.round(rmse,2)"
      ]
    },
    {
      "cell_type": "markdown",
      "metadata": {
        "id": "Z5qV6-UuXH7I"
      },
      "source": [
        "####  1.3. Confidence interval and visualization:"
      ]
    },
    {
      "cell_type": "code",
      "execution_count": 10,
      "metadata": {
        "id": "LrLmQztYXH7J"
      },
      "outputs": [],
      "source": [
        "# We define here the function that calculates standard error.\n",
        "# Refer to the formula given in the lecture note.\n",
        "def StdError(x_star, x_vec, mse, n):\n",
        "    x_mean = np.mean(x_vec)\n",
        "    return (np.sqrt(mse*(1/n+(x_star-x_mean)**2/np.sum((x_vec-x_mean)**2))))"
      ]
    },
    {
      "cell_type": "code",
      "execution_count": 11,
      "metadata": {
        "id": "NslbLYgKXH7J"
      },
      "outputs": [],
      "source": [
        "# y_hat : the predicted y.\n",
        "# y_low : lower bound of the confidence interval (95%).\n",
        "# y_up : upper bound of the confidence interval (95%).\n",
        "x_star = np.linspace(1,9,10)\n",
        "y_hat = b0 + b1*x_star\n",
        "y_low = y_hat - st.t.ppf(0.975,n-2)*StdError(x_star,study,mse,n)\n",
        "y_up = y_hat + st.t.ppf(0.975,n-2)*StdError(x_star,study,mse,n)"
      ]
    },
    {
      "cell_type": "code",
      "execution_count": 12,
      "metadata": {
        "id": "QmcwFeecXH7J",
        "outputId": "1b503b6c-ad2d-474d-b306-18e6f9a1ce72",
        "colab": {
          "base_uri": "https://localhost:8080/",
          "height": 279
        }
      },
      "outputs": [
        {
          "output_type": "display_data",
          "data": {
            "text/plain": [
              "<Figure size 432x288 with 1 Axes>"
            ],
            "image/png": "[encoded data removed]"
          },
          "metadata": {
            "needs_background": "light"
          }
        }
      ],
      "source": [
        "# Now, disaply.\n",
        "plt.scatter(study, score, c='red')\n",
        "plt.plot(x_star,y_low,c = 'blue',linestyle='--',linewidth=1)\n",
        "plt.plot(x_star,y_hat,c = 'green',linewidth = 1.5, alpha=0.5)\n",
        "plt.plot(x_star,y_up,c = 'blue',linestyle='--',linewidth=1)\n",
        "plt.xlabel('Study')\n",
        "plt.ylabel('Score')\n",
        "plt.show()"
      ]
    },
    {
      "cell_type": "code",
      "execution_count": null,
      "metadata": {
        "id": "vmVbB0HLXH7J"
      },
      "outputs": [],
      "source": []
    }
  ],
  "metadata": {
    "kernelspec": {
      "display_name": "Python 3 (ipykernel)",
      "language": "python",
      "name": "python3"
    },
    "language_info": {
      "codemirror_mode": {
        "name": "ipython",
        "version": 3
      },
      "file_extension": ".py",
      "mimetype": "text/x-python",
      "name": "python",
      "nbconvert_exporter": "python",
      "pygments_lexer": "ipython3",
      "version": "3.9.13"
    },
    "colab": {
      "provenance": []
    }
  },
  "nbformat": 4,
  "nbformat_minor": 0
}