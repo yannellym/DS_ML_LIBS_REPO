{
  "cells": [
    {
      "cell_type": "markdown",
      "metadata": {
        "id": "BCyZ5GXq5jKg"
      },
      "source": [
        "## Coding Exercise #0701"
      ]
    },
    {
      "cell_type": "markdown",
      "metadata": {
        "id": "DOD2O5uq5jKi"
      },
      "source": [
        "### 1. String functions:"
      ]
    },
    {
      "cell_type": "code",
      "execution_count": 1,
      "metadata": {
        "id": "WGgDu9Ai5jKj",
        "outputId": "60aa214f-6d87-4255-a0e0-6a812061e0dd",
        "colab": {
          "base_uri": "https://localhost:8080/",
          "height": 35
        }
      },
      "outputs": [
        {
          "output_type": "execute_result",
          "data": {
            "text/plain": [
              "'hello! how are you?'"
            ],
            "application/vnd.google.colaboratory.intrinsic+json": {
              "type": "string"
            }
          },
          "metadata": {},
          "execution_count": 1
        }
      ],
      "source": [
        "# To lowercase.\n",
        "\"HELLO! HOW ARE YOU?\".lower()"
      ]
    },
    {
      "cell_type": "code",
      "execution_count": 2,
      "metadata": {
        "id": "qs-ZXnmO5jKj",
        "outputId": "136825f6-5329-4776-bb27-a896e602ee83",
        "colab": {
          "base_uri": "https://localhost:8080/",
          "height": 35
        }
      },
      "outputs": [
        {
          "output_type": "execute_result",
          "data": {
            "text/plain": [
              "'THIS IS A WARNING!'"
            ],
            "application/vnd.google.colaboratory.intrinsic+json": {
              "type": "string"
            }
          },
          "metadata": {},
          "execution_count": 2
        }
      ],
      "source": [
        "# To uppercase.\n",
        "\"this is a warning!\".upper()"
      ]
    },
    {
      "cell_type": "code",
      "execution_count": 3,
      "metadata": {
        "id": "xT6aIlU65jKk"
      },
      "outputs": [],
      "source": [
        "# Split the string using a space as separator.\n",
        "x = \"Once upon a time, there was a prince and a princess.\".split(\" \")"
      ]
    },
    {
      "cell_type": "code",
      "execution_count": 4,
      "metadata": {
        "id": "941YD1ix5jKk",
        "outputId": "32e19157-fe9e-408e-e705-9b14b97c4255",
        "colab": {
          "base_uri": "https://localhost:8080/"
        }
      },
      "outputs": [
        {
          "output_type": "stream",
          "name": "stdout",
          "text": [
            "['Once', 'upon', 'a', 'time,', 'there', 'was', 'a', 'prince', 'and', 'a', 'princess.']\n"
          ]
        }
      ],
      "source": [
        "print(x)"
      ]
    },
    {
      "cell_type": "code",
      "execution_count": 5,
      "metadata": {
        "id": "J-7FXrCu5jKk",
        "outputId": "9f678517-1f20-45d6-c716-24c2a1cf87a7",
        "colab": {
          "base_uri": "https://localhost:8080/",
          "height": 35
        }
      },
      "outputs": [
        {
          "output_type": "execute_result",
          "data": {
            "text/plain": [
              "'Once upon a time, there was a prince and a princess.'"
            ],
            "application/vnd.google.colaboratory.intrinsic+json": {
              "type": "string"
            }
          },
          "metadata": {},
          "execution_count": 5
        }
      ],
      "source": [
        "# Join the list of string objects using a space as separator.\n",
        "\" \".join(x)"
      ]
    },
    {
      "cell_type": "code",
      "execution_count": 9,
      "metadata": {
        "id": "zAuNCdG85jKk",
        "outputId": "0415460a-faa0-43e7-c06d-e21432136bb9",
        "colab": {
          "base_uri": "https://localhost:8080/"
        }
      },
      "outputs": [
        {
          "output_type": "stream",
          "name": "stdout",
          "text": [
            "52\n"
          ]
        }
      ],
      "source": [
        "# Measure the length of a string object.\n",
        "y = \"Once upon a time, there was a prince and a princess.\"\n",
        "print(len(y))"
      ]
    },
    {
      "cell_type": "code",
      "execution_count": 10,
      "metadata": {
        "id": "iQ1m8aTz5jKl",
        "outputId": "ab17b12f-e8f0-45d2-b6a1-35f763d9b0fe",
        "colab": {
          "base_uri": "https://localhost:8080/"
        }
      },
      "outputs": [
        {
          "output_type": "execute_result",
          "data": {
            "text/plain": [
              "5"
            ]
          },
          "metadata": {},
          "execution_count": 10
        }
      ],
      "source": [
        "# Count the number of occurrences of 'a'.\n",
        "y.count('a')"
      ]
    },
    {
      "cell_type": "code",
      "execution_count": 11,
      "metadata": {
        "id": "3MXfnyxm5jKl",
        "outputId": "b97a406e-7d72-4415-c6a0-5d3a0ee25e49",
        "colab": {
          "base_uri": "https://localhost:8080/",
          "height": 35
        }
      },
      "outputs": [
        {
          "output_type": "execute_result",
          "data": {
            "text/plain": [
              "'Once upon '"
            ],
            "application/vnd.google.colaboratory.intrinsic+json": {
              "type": "string"
            }
          },
          "metadata": {},
          "execution_count": 11
        }
      ],
      "source": [
        "# Sub-string.\n",
        "y[0:10]"
      ]
    },
    {
      "cell_type": "markdown",
      "metadata": {
        "id": "sofiAX2t5jKl"
      },
      "source": [
        "### 2. Regular expressions:"
      ]
    },
    {
      "cell_type": "code",
      "execution_count": 12,
      "metadata": {
        "id": "xqCsWgXO5jKl"
      },
      "outputs": [],
      "source": [
        "import re "
      ]
    },
    {
      "cell_type": "markdown",
      "metadata": {
        "id": "a8HBC8tq5jKl"
      },
      "source": [
        "#### 2.1. Metacharacter: Dot "
      ]
    },
    {
      "cell_type": "code",
      "execution_count": 13,
      "metadata": {
        "id": "JbPTAECN5jKl"
      },
      "outputs": [],
      "source": [
        "# Target strings.\n",
        "x1 = \"ct\"\n",
        "x2 = \"cat\"\n",
        "x3 = \"caat\""
      ]
    },
    {
      "cell_type": "code",
      "execution_count": 14,
      "metadata": {
        "id": "yM9RkY2W5jKm"
      },
      "outputs": [],
      "source": [
        "# A regular expression.\n",
        "my_expression = re.compile(\"c.t\")"
      ]
    },
    {
      "cell_type": "code",
      "execution_count": 15,
      "metadata": {
        "id": "CmcX47Y-5jKm",
        "outputId": "1a91d2b5-9d3e-473a-a951-6f2220ac1d95",
        "colab": {
          "base_uri": "https://localhost:8080/"
        }
      },
      "outputs": [
        {
          "output_type": "stream",
          "name": "stdout",
          "text": [
            "No\n"
          ]
        }
      ],
      "source": [
        "if my_expression.search(x1):\n",
        "    print(\"Yes!\")\n",
        "else:\n",
        "    print(\"No\")"
      ]
    },
    {
      "cell_type": "code",
      "execution_count": 16,
      "metadata": {
        "id": "9EGBIaPu5jKm",
        "outputId": "6b6380b2-3ecb-42d1-e242-467fe9ccb030",
        "colab": {
          "base_uri": "https://localhost:8080/"
        }
      },
      "outputs": [
        {
          "output_type": "stream",
          "name": "stdout",
          "text": [
            "Yes!\n"
          ]
        }
      ],
      "source": [
        "if my_expression.search(x2):\n",
        "    print(\"Yes!\")\n",
        "else:\n",
        "    print(\"No\")"
      ]
    },
    {
      "cell_type": "code",
      "execution_count": 17,
      "metadata": {
        "id": "vFho-A1J5jKm",
        "outputId": "2919f5bb-f22d-4770-d2fd-2530a007f8b4",
        "colab": {
          "base_uri": "https://localhost:8080/"
        }
      },
      "outputs": [
        {
          "output_type": "stream",
          "name": "stdout",
          "text": [
            "No\n"
          ]
        }
      ],
      "source": [
        "if my_expression.search(x3):\n",
        "    print(\"Yes!\")\n",
        "else:\n",
        "    print(\"No\")"
      ]
    },
    {
      "cell_type": "markdown",
      "metadata": {
        "id": "Go6f6cpe5jKm"
      },
      "source": [
        "#### 2.2. Metacharacter: ?"
      ]
    },
    {
      "cell_type": "code",
      "execution_count": 19,
      "metadata": {
        "id": "RZhoAshL5jKm"
      },
      "outputs": [],
      "source": [
        "# A regular expression.\n",
        "my_exp = \"ca?t\""
      ]
    },
    {
      "cell_type": "code",
      "execution_count": 20,
      "metadata": {
        "id": "Pda04LL95jKm",
        "outputId": "f689b8c9-68ce-46f7-caf0-cc879acc00c8",
        "colab": {
          "base_uri": "https://localhost:8080/"
        }
      },
      "outputs": [
        {
          "output_type": "stream",
          "name": "stdout",
          "text": [
            "Yes!\n"
          ]
        }
      ],
      "source": [
        "if re.search(my_exp, x1):\n",
        "    print(\"Yes!\")\n",
        "else:\n",
        "    print(\"No\")"
      ]
    },
    {
      "cell_type": "code",
      "execution_count": 21,
      "metadata": {
        "id": "LuDuF2cX5jKn",
        "outputId": "04eedd2b-f1e6-4bb4-c4a4-5c67af243911",
        "colab": {
          "base_uri": "https://localhost:8080/"
        }
      },
      "outputs": [
        {
          "output_type": "stream",
          "name": "stdout",
          "text": [
            "Yes!\n"
          ]
        }
      ],
      "source": [
        "if re.search(my_exp, x2):\n",
        "    print(\"Yes!\")\n",
        "else:\n",
        "    print(\"No\")"
      ]
    },
    {
      "cell_type": "code",
      "execution_count": 22,
      "metadata": {
        "id": "n3zZ1BDX5jKn",
        "outputId": "b7db4520-837a-4d2c-a528-2687b49f30be",
        "colab": {
          "base_uri": "https://localhost:8080/"
        }
      },
      "outputs": [
        {
          "output_type": "stream",
          "name": "stdout",
          "text": [
            "No\n"
          ]
        }
      ],
      "source": [
        "if re.search(my_exp, x3):\n",
        "    print(\"Yes!\")\n",
        "else:\n",
        "    print(\"No\")"
      ]
    },
    {
      "cell_type": "markdown",
      "metadata": {
        "id": "JpxDL8Hl5jKn"
      },
      "source": [
        "#### 2.3. Metacharacter: {m,n}"
      ]
    },
    {
      "cell_type": "code",
      "execution_count": 24,
      "metadata": {
        "id": "-T0uOBb15jKn"
      },
      "outputs": [],
      "source": [
        "# Target strings.\n",
        "x1 = \"ct\"\n",
        "x2 = \"cat\"\n",
        "x3 = \"caat\"\n",
        "x4 = \"caaat\""
      ]
    },
    {
      "cell_type": "code",
      "execution_count": 23,
      "metadata": {
        "id": "HTGgRfUF5jKn"
      },
      "outputs": [],
      "source": [
        "# A regular expression.\n",
        "my_exp= \"ca{1,2}t\""
      ]
    },
    {
      "cell_type": "code",
      "execution_count": 25,
      "metadata": {
        "id": "P3pbsvkV5jKn",
        "outputId": "a0343bbd-da3e-4e87-cf39-58a923e5960c",
        "colab": {
          "base_uri": "https://localhost:8080/"
        }
      },
      "outputs": [
        {
          "output_type": "stream",
          "name": "stdout",
          "text": [
            "No\n"
          ]
        }
      ],
      "source": [
        "if re.search(my_exp, x1):\n",
        "    print(\"Yes!\")\n",
        "else:\n",
        "    print(\"No\")"
      ]
    },
    {
      "cell_type": "code",
      "execution_count": 26,
      "metadata": {
        "id": "fer5wCtJ5jKn",
        "outputId": "b9f81474-abd8-44d6-815c-5de844d13c6b",
        "colab": {
          "base_uri": "https://localhost:8080/"
        }
      },
      "outputs": [
        {
          "output_type": "stream",
          "name": "stdout",
          "text": [
            "Yes!\n"
          ]
        }
      ],
      "source": [
        "if re.search(my_exp, x2):\n",
        "    print(\"Yes!\")\n",
        "else:\n",
        "    print(\"No\")"
      ]
    },
    {
      "cell_type": "code",
      "execution_count": 27,
      "metadata": {
        "id": "nE1cGyVq5jKn",
        "outputId": "8107cf3c-f7af-442e-e8f6-047789beb4d1",
        "colab": {
          "base_uri": "https://localhost:8080/"
        }
      },
      "outputs": [
        {
          "output_type": "stream",
          "name": "stdout",
          "text": [
            "Yes!\n"
          ]
        }
      ],
      "source": [
        "if re.search(my_exp, x3):\n",
        "    print(\"Yes!\")\n",
        "else:\n",
        "    print(\"No\")"
      ]
    },
    {
      "cell_type": "code",
      "execution_count": 28,
      "metadata": {
        "id": "L2Ke2XVF5jKn",
        "outputId": "de617c85-74ce-425b-e732-3c6d2fecc0d9",
        "colab": {
          "base_uri": "https://localhost:8080/"
        }
      },
      "outputs": [
        {
          "output_type": "stream",
          "name": "stdout",
          "text": [
            "No\n"
          ]
        }
      ],
      "source": [
        "if re.search(my_exp, x4):\n",
        "    print(\"Yes!\")\n",
        "else:\n",
        "    print(\"No\")"
      ]
    },
    {
      "cell_type": "markdown",
      "metadata": {
        "id": "RNagCMUA5jKo"
      },
      "source": [
        "#### 2.4. Metacharacter: ^"
      ]
    },
    {
      "cell_type": "code",
      "execution_count": 29,
      "metadata": {
        "id": "zrZjP3735jKo"
      },
      "outputs": [],
      "source": [
        "# Target strings.\n",
        "x1 = \"That is your book.\"\n",
        "x2 = \"This is my book.\""
      ]
    },
    {
      "cell_type": "code",
      "execution_count": 30,
      "metadata": {
        "id": "hnz9dXPN5jKo"
      },
      "outputs": [],
      "source": [
        "# A regular expression.\n",
        "my_exp = \"^This\""
      ]
    },
    {
      "cell_type": "code",
      "execution_count": 31,
      "metadata": {
        "id": "4TuTIDls5jKo",
        "outputId": "bcaaa86b-d373-4ab4-c988-f29c5e670396",
        "colab": {
          "base_uri": "https://localhost:8080/"
        }
      },
      "outputs": [
        {
          "output_type": "stream",
          "name": "stdout",
          "text": [
            "No\n"
          ]
        }
      ],
      "source": [
        "if re.search(my_exp, x1):\n",
        "    print(\"Yes!\")\n",
        "else:\n",
        "    print(\"No\")"
      ]
    },
    {
      "cell_type": "code",
      "execution_count": 32,
      "metadata": {
        "id": "lOhserTN5jKo",
        "outputId": "74a627e4-76e8-4d5b-c9b8-78bc01bd4eba",
        "colab": {
          "base_uri": "https://localhost:8080/"
        }
      },
      "outputs": [
        {
          "output_type": "stream",
          "name": "stdout",
          "text": [
            "Yes!\n"
          ]
        }
      ],
      "source": [
        "if re.search(my_exp, x2):\n",
        "    print(\"Yes!\")\n",
        "else:\n",
        "    print(\"No\")"
      ]
    },
    {
      "cell_type": "markdown",
      "metadata": {
        "id": "GkD7jVKt5jKo"
      },
      "source": [
        "#### 2.5. Metacharacter: ^"
      ]
    },
    {
      "cell_type": "code",
      "execution_count": 33,
      "metadata": {
        "id": "nEklgLvO5jKo"
      },
      "outputs": [],
      "source": [
        "# Target strings.\n",
        "x1 = \"I don't like you\"\n",
        "x2 = \"You are great\"\n",
        "x3 = \"in case you forget, remember this\""
      ]
    },
    {
      "cell_type": "code",
      "execution_count": 34,
      "metadata": {
        "id": "-eGYTPuJ5jKo"
      },
      "outputs": [],
      "source": [
        "# A regular expression.\n",
        "my_exp = \"^[Ii]\""
      ]
    },
    {
      "cell_type": "code",
      "execution_count": 35,
      "metadata": {
        "id": "AIgmngZf5jKp",
        "outputId": "be79e97f-d1fa-43a4-ba57-4ae0472b7fae",
        "colab": {
          "base_uri": "https://localhost:8080/"
        }
      },
      "outputs": [
        {
          "output_type": "stream",
          "name": "stdout",
          "text": [
            "Yes!\n"
          ]
        }
      ],
      "source": [
        "if re.search(my_exp, x1):\n",
        "    print(\"Yes!\")\n",
        "else:\n",
        "    print(\"No\")"
      ]
    },
    {
      "cell_type": "code",
      "execution_count": 36,
      "metadata": {
        "id": "SEcp7PAI5jKp",
        "outputId": "a0387d60-df0e-4a3e-e032-ae4c99ec673b",
        "colab": {
          "base_uri": "https://localhost:8080/"
        }
      },
      "outputs": [
        {
          "output_type": "stream",
          "name": "stdout",
          "text": [
            "No\n"
          ]
        }
      ],
      "source": [
        "if re.search(my_exp, x2):\n",
        "    print(\"Yes!\")\n",
        "else:\n",
        "    print(\"No\")"
      ]
    },
    {
      "cell_type": "code",
      "execution_count": 37,
      "metadata": {
        "id": "2nWt4kOH5jKp",
        "outputId": "abea6fd3-be46-48f9-a4c7-a89d3dfec8f5",
        "colab": {
          "base_uri": "https://localhost:8080/"
        }
      },
      "outputs": [
        {
          "output_type": "stream",
          "name": "stdout",
          "text": [
            "Yes!\n"
          ]
        }
      ],
      "source": [
        "if re.search(my_exp, x3):\n",
        "    print(\"Yes!\")\n",
        "else:\n",
        "    print(\"No\")"
      ]
    },
    {
      "cell_type": "markdown",
      "metadata": {
        "id": "UMOYs4O-5jKp"
      },
      "source": [
        "More examples:"
      ]
    },
    {
      "cell_type": "code",
      "execution_count": 38,
      "metadata": {
        "id": "-iZ6xKKF5jKp"
      },
      "outputs": [],
      "source": [
        "# Target strings.\n",
        "x1 = \"This is year 2019\"\n",
        "x2 = \"2000 is the year of my birth\""
      ]
    },
    {
      "cell_type": "code",
      "execution_count": 39,
      "metadata": {
        "id": "8EFjk7nJ5jKp"
      },
      "outputs": [],
      "source": [
        "# A regular expression.\n",
        "my_exp = \"^[0-9]\""
      ]
    },
    {
      "cell_type": "code",
      "execution_count": 40,
      "metadata": {
        "id": "QyrJouZG5jKp",
        "outputId": "27765a36-5be5-40ac-f00d-8d03dbf94c28",
        "colab": {
          "base_uri": "https://localhost:8080/"
        }
      },
      "outputs": [
        {
          "output_type": "stream",
          "name": "stdout",
          "text": [
            "No\n"
          ]
        }
      ],
      "source": [
        "if re.search(my_exp, x1):\n",
        "    print(\"Yes!\")\n",
        "else:\n",
        "    print(\"No\")"
      ]
    },
    {
      "cell_type": "code",
      "execution_count": 41,
      "metadata": {
        "id": "ZBBKy4TE5jKp",
        "outputId": "1fbe16c4-343e-49fb-cd82-05518ad6a261",
        "colab": {
          "base_uri": "https://localhost:8080/"
        }
      },
      "outputs": [
        {
          "output_type": "stream",
          "name": "stdout",
          "text": [
            "Yes!\n"
          ]
        }
      ],
      "source": [
        "if re.search(my_exp, x2):\n",
        "    print(\"Yes!\")\n",
        "else:\n",
        "    print(\"No\")"
      ]
    },
    {
      "cell_type": "markdown",
      "metadata": {
        "id": "_0Arsf8A5jKq"
      },
      "source": [
        "#### 2.6. Metacharacter: $"
      ]
    },
    {
      "cell_type": "code",
      "execution_count": 42,
      "metadata": {
        "id": "LR-3YAh_5jKq"
      },
      "outputs": [],
      "source": [
        "# Target strings.\n",
        "x1 = \"Python is easy\"\n",
        "x2 = \"You need Python\""
      ]
    },
    {
      "cell_type": "code",
      "execution_count": 43,
      "metadata": {
        "id": "1Vvkqrr-5jKq"
      },
      "outputs": [],
      "source": [
        "# A regular expression.\n",
        "my_exp = \"Python$\""
      ]
    },
    {
      "cell_type": "code",
      "execution_count": 44,
      "metadata": {
        "id": "vDK3-iFp5jKq",
        "outputId": "87be7e89-10bc-4a11-d188-19e985eca103",
        "colab": {
          "base_uri": "https://localhost:8080/"
        }
      },
      "outputs": [
        {
          "output_type": "stream",
          "name": "stdout",
          "text": [
            "No\n"
          ]
        }
      ],
      "source": [
        "if re.search(my_exp, x1):\n",
        "    print(\"Yes!\")\n",
        "else:\n",
        "    print(\"No\")"
      ]
    },
    {
      "cell_type": "code",
      "execution_count": 45,
      "metadata": {
        "id": "OlrNZvAs5jKq",
        "outputId": "fddf72ff-ad41-423d-a1f9-b3457b7417ca",
        "colab": {
          "base_uri": "https://localhost:8080/"
        }
      },
      "outputs": [
        {
          "output_type": "stream",
          "name": "stdout",
          "text": [
            "Yes!\n"
          ]
        }
      ],
      "source": [
        "if re.search(my_exp, x2):\n",
        "    print(\"Yes!\")\n",
        "else:\n",
        "    print(\"No\")"
      ]
    },
    {
      "cell_type": "markdown",
      "metadata": {
        "id": "6Yad1H-_5jKq"
      },
      "source": [
        "#### 2.7. Metacharacter: |"
      ]
    },
    {
      "cell_type": "code",
      "execution_count": 46,
      "metadata": {
        "id": "Ae5Xugyl5jKq"
      },
      "outputs": [],
      "source": [
        "# Target strings.\n",
        "x1 = \"I love you\"\n",
        "x2 = \"I hate you\"\n",
        "x3 = \"I like you\""
      ]
    },
    {
      "cell_type": "code",
      "execution_count": 47,
      "metadata": {
        "id": "I70Tkmwf5jKq"
      },
      "outputs": [],
      "source": [
        "# A regular expression.\n",
        "my_exp = \"love|hate\""
      ]
    },
    {
      "cell_type": "code",
      "execution_count": 49,
      "metadata": {
        "id": "JnKHOqdO5jKq",
        "outputId": "b2da8a60-d756-493a-e68d-373bede86f52",
        "colab": {
          "base_uri": "https://localhost:8080/"
        }
      },
      "outputs": [
        {
          "output_type": "stream",
          "name": "stdout",
          "text": [
            "Yes!\n"
          ]
        }
      ],
      "source": [
        "if re.search(my_exp, x1):\n",
        "    print(\"Yes!\")\n",
        "else:\n",
        "    print(\"No\")"
      ]
    },
    {
      "cell_type": "code",
      "execution_count": 48,
      "metadata": {
        "id": "k2OihPz25jKq",
        "outputId": "b60d8cb6-6cc8-49c9-c820-7dd7ee0395b4",
        "colab": {
          "base_uri": "https://localhost:8080/"
        }
      },
      "outputs": [
        {
          "output_type": "stream",
          "name": "stdout",
          "text": [
            "Yes!\n"
          ]
        }
      ],
      "source": [
        "if re.search(my_exp, x2):\n",
        "    print(\"Yes!\")\n",
        "else:\n",
        "    print(\"No\")"
      ]
    },
    {
      "cell_type": "code",
      "execution_count": 50,
      "metadata": {
        "id": "G1mSU8dq5jKr",
        "outputId": "7f061299-fd0e-4964-c9b9-5375a7f1ce8b",
        "colab": {
          "base_uri": "https://localhost:8080/"
        }
      },
      "outputs": [
        {
          "output_type": "stream",
          "name": "stdout",
          "text": [
            "No\n"
          ]
        }
      ],
      "source": [
        "if re.search(my_exp, x3):\n",
        "    print(\"Yes!\")\n",
        "else:\n",
        "    print(\"No\")"
      ]
    },
    {
      "cell_type": "markdown",
      "metadata": {
        "id": "DmwngK9B5jKr"
      },
      "source": [
        "#### 2.8. sub() function:"
      ]
    },
    {
      "cell_type": "code",
      "execution_count": 51,
      "metadata": {
        "id": "YTEAAWf85jKr"
      },
      "outputs": [],
      "source": [
        "# Target strings.\n",
        "x1 = \"Welcome to the year 2018\"\n",
        "x2 = \"Just ~%* ++++--- arrived at @Jack's ##place.\"\n",
        "x3 = \"I                  love                you.\""
      ]
    },
    {
      "cell_type": "code",
      "execution_count": 52,
      "metadata": {
        "id": "brPvt-J35jKr",
        "outputId": "538ba157-17d6-4941-d5fa-8b1c26fe2d8e",
        "colab": {
          "base_uri": "https://localhost:8080/",
          "height": 35
        }
      },
      "outputs": [
        {
          "output_type": "execute_result",
          "data": {
            "text/plain": [
              "'Welcome to the year XXXX'"
            ],
            "application/vnd.google.colaboratory.intrinsic+json": {
              "type": "string"
            }
          },
          "metadata": {},
          "execution_count": 52
        }
      ],
      "source": [
        "# Substitute the matching pattern with 'X'.\n",
        "re.sub('\\d','X',x1)"
      ]
    },
    {
      "cell_type": "code",
      "execution_count": 53,
      "metadata": {
        "id": "wyWhHSH85jKr",
        "outputId": "920040aa-28b7-45fe-c6b9-7f79a78026e7",
        "colab": {
          "base_uri": "https://localhost:8080/",
          "height": 35
        }
      },
      "outputs": [
        {
          "output_type": "execute_result",
          "data": {
            "text/plain": [
              "\"Just             arrived at  Jack's   place.\""
            ],
            "application/vnd.google.colaboratory.intrinsic+json": {
              "type": "string"
            }
          },
          "metadata": {},
          "execution_count": 53
        }
      ],
      "source": [
        "# Substitute the matching pattern with space.\n",
        "x2_modified = re.sub('[@~*#%+-]',' ',x2)\n",
        "x2_modified"
      ]
    },
    {
      "cell_type": "code",
      "execution_count": 54,
      "metadata": {
        "id": "YZ8GdszY5jKr",
        "outputId": "b1928533-0690-4e9a-b867-9c3c3bbd6b20",
        "colab": {
          "base_uri": "https://localhost:8080/",
          "height": 35
        }
      },
      "outputs": [
        {
          "output_type": "execute_result",
          "data": {
            "text/plain": [
              "\"Just arrived at Jack's place.\""
            ],
            "application/vnd.google.colaboratory.intrinsic+json": {
              "type": "string"
            }
          },
          "metadata": {},
          "execution_count": 54
        }
      ],
      "source": [
        "# Remove the excessive spaces.\n",
        "x2_final = re.sub('\\s+',' ',x2_modified)\n",
        "x2_final"
      ]
    },
    {
      "cell_type": "code",
      "execution_count": null,
      "metadata": {
        "id": "UTFeOHaH5jKr"
      },
      "outputs": [],
      "source": [
        "# Remove the excessive spaces.\n",
        "re.sub('\\s+',' ',x3)"
      ]
    },
    {
      "cell_type": "code",
      "execution_count": null,
      "metadata": {
        "id": "4ApKIpFk5jKr"
      },
      "outputs": [],
      "source": []
    }
  ],
  "metadata": {
    "kernelspec": {
      "display_name": "Python 3 (ipykernel)",
      "language": "python",
      "name": "python3"
    },
    "language_info": {
      "codemirror_mode": {
        "name": "ipython",
        "version": 3
      },
      "file_extension": ".py",
      "mimetype": "text/x-python",
      "name": "python",
      "nbconvert_exporter": "python",
      "pygments_lexer": "ipython3",
      "version": "3.9.13"
    },
    "colab": {
      "provenance": []
    }
  },
  "nbformat": 4,
  "nbformat_minor": 0
}